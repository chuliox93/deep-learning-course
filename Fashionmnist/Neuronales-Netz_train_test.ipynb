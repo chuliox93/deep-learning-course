{
 "cells": [
  {
   "cell_type": "code",
   "execution_count": 27,
   "id": "debde4b3-d495-4a5b-b530-13ef7eedabd7",
   "metadata": {},
   "outputs": [],
   "source": [
    "import gzip\n",
    "import numpy as np\n",
    "from keras.utils import to_categorical\n",
    "from keras.models import Sequential\n",
    "from keras.layers import Dense\n",
    "\n",
    "# Funktionen zum Laden der Daten\n",
    "def open_images(filename):\n",
    "    with gzip.open(filename, \"rb\") as file:\n",
    "        data = file.read()\n",
    "        return np.frombuffer(data, dtype=np.uint8, offset=16)\\\n",
    "            .reshape(-1, 28, 28)\\\n",
    "            .astype(np.float32)\n",
    "\n",
    "def open_labels(filename):\n",
    "    with gzip.open(filename, \"rb\") as file:\n",
    "        data = file.read()\n",
    "        return np.frombuffer(data, dtype=np.uint8, offset=8)\n",
    "\n",
    "# Daten laden\n",
    "X_train = open_images(\".../DataspellProjects/pythonProject2/Fashionmnist/train-images-idx3-ubyte.gz\")\n",
    "y_train = open_labels(\".../Donch/DataspellProjects/pythonProject2/Fashionmnist/train-labels-idx1-ubyte.gz\")\n",
    "\n",
    "X_test = open_images(\".../DataspellProjects/pythonProject2/Fashionmnist/t10k-images-idx3-ubyte.gz\")\n",
    "y_test = open_labels(\".../DataspellProjects/pythonProject2/Fashionmnist/t10k-labels-idx1-ubyte.gz\")\n",
    "\n",
    "# Labels One-Hot-codieren\n",
    "y_train = to_categorical(y_train, 10)  # 10 Klassen im FashionMNIST-Datensatz\n",
    "y_test = to_categorical(y_test, 10)"
   ]
  },
  {
   "cell_type": "code",
   "execution_count": 28,
   "id": "8110ec85-0f6d-49d8-af8d-3139a7362de6",
   "metadata": {},
   "outputs": [],
   "source": [
    "\n",
    "# Modell erstellen\n",
    "model = Sequential()\n",
    "\n",
    "# Input-Schicht mit 100 Neuronen, sigmoid-Aktivierung und Input-Shape von (784,)\n",
    "model.add(Dense(100, activation=\"sigmoid\", input_shape=(784,)))\n",
    "\n",
    "# Output-Schicht mit 10 Neuronen (für 10 Klassen) und Softmax-Aktivierung\n",
    "model.add(Dense(10, activation=\"softmax\"))\n",
    "\n",
    "# Modell kompilieren mit der richtigen Verlustfunktion für Mehrklassenklassifikation\n",
    "model.compile(optimizer=\"sgd\", \n",
    "              loss=\"categorical_crossentropy\",  # Korrekte Verlustfunktion für One-Hot-codierte Labels\n",
    "              metrics=[\"accuracy\"])  # Metrik für die Genauigkeit"
   ]
  },
  {
   "cell_type": "code",
   "execution_count": 29,
   "id": "bd62bc9c-7cae-4fa5-96f3-647695d39ac4",
   "metadata": {},
   "outputs": [
    {
     "data": {
      "text/plain": [
       "array([[0., 0., 0., ..., 0., 0., 0.],\n",
       "       [0., 0., 0., ..., 0., 0., 0.],\n",
       "       [0., 0., 0., ..., 0., 0., 0.],\n",
       "       ...,\n",
       "       [0., 0., 0., ..., 0., 0., 0.],\n",
       "       [0., 0., 0., ..., 0., 0., 0.],\n",
       "       [0., 0., 0., ..., 0., 0., 0.]], dtype=float32)"
      ]
     },
     "execution_count": 29,
     "metadata": {},
     "output_type": "execute_result"
    }
   ],
   "source": [
    "X_train.reshape(60000, 784)\n"
   ]
  },
  {
   "cell_type": "code",
   "execution_count": 30,
   "id": "25a7a448-f011-4285-bed1-eb04b484b8cf",
   "metadata": {},
   "outputs": [
    {
     "name": "stdout",
     "output_type": "stream",
     "text": [
      "Epoch 1/10\n",
      "60/60 [==============================] - 1s 2ms/step - loss: 1.7108 - accuracy: 0.4809\n",
      "Epoch 2/10\n",
      "60/60 [==============================] - 0s 2ms/step - loss: 1.2367 - accuracy: 0.6629\n",
      "Epoch 3/10\n",
      "60/60 [==============================] - 0s 2ms/step - loss: 1.0655 - accuracy: 0.7108\n",
      "Epoch 4/10\n",
      "60/60 [==============================] - 0s 2ms/step - loss: 0.9631 - accuracy: 0.7372\n",
      "Epoch 5/10\n",
      "60/60 [==============================] - 0s 4ms/step - loss: 0.8919 - accuracy: 0.7524\n",
      "Epoch 6/10\n",
      "60/60 [==============================] - 0s 2ms/step - loss: 0.8395 - accuracy: 0.7627\n",
      "Epoch 7/10\n",
      "60/60 [==============================] - 0s 2ms/step - loss: 0.7951 - accuracy: 0.7724\n",
      "Epoch 8/10\n",
      "60/60 [==============================] - 0s 2ms/step - loss: 0.7587 - accuracy: 0.7776\n",
      "Epoch 9/10\n",
      "60/60 [==============================] - 0s 2ms/step - loss: 0.7285 - accuracy: 0.7840\n",
      "Epoch 10/10\n",
      "60/60 [==============================] - 0s 2ms/step - loss: 0.7048 - accuracy: 0.7891\n"
     ]
    },
    {
     "data": {
      "text/plain": [
       "<keras.callbacks.History at 0x2d22c0913c0>"
      ]
     },
     "execution_count": 30,
     "metadata": {},
     "output_type": "execute_result"
    }
   ],
   "source": [
    "model.fit(X_train.reshape(60000, 784),  # Die Bilder auf ein (60000, 784) Format umwandeln\n",
    "          y_train,  # Labels für die 10 Klassen\n",
    "          epochs=10,\n",
    "          batch_size=1000)"
   ]
  },
  {
   "cell_type": "code",
   "execution_count": 35,
   "id": "b08792a8-008e-43bf-b5a2-976ecf23143b",
   "metadata": {},
   "outputs": [
    {
     "name": "stdout",
     "output_type": "stream",
     "text": [
      "313/313 [==============================] - 1s 2ms/step - loss: 0.7198 - accuracy: 0.7797\n"
     ]
    },
    {
     "data": {
      "text/plain": [
       "[0.7198426127433777, 0.779699981212616]"
      ]
     },
     "execution_count": 35,
     "metadata": {},
     "output_type": "execute_result"
    }
   ],
   "source": [
    "# Modell bewerten mit den Testdaten\n",
    "model.evaluate(X_test.reshape(10000, 784), y_test)\n"
   ]
  },
  {
   "cell_type": "code",
   "execution_count": 32,
   "id": "bbf1029b-3bff-40fe-95fb-6fdb1eecb6e9",
   "metadata": {},
   "outputs": [
    {
     "data": {
      "text/plain": [
       "(10000, 28, 28)"
      ]
     },
     "execution_count": 32,
     "metadata": {},
     "output_type": "execute_result"
    }
   ],
   "source": [
    "X_test.shape"
   ]
  },
  {
   "cell_type": "code",
   "execution_count": 33,
   "id": "796de912-9593-480d-b46a-b055026b43db",
   "metadata": {},
   "outputs": [
    {
     "data": {
      "text/plain": [
       "(60000, 28, 28)"
      ]
     },
     "execution_count": 33,
     "metadata": {},
     "output_type": "execute_result"
    }
   ],
   "source": [
    "X_train.shape\n"
   ]
  },
  {
   "cell_type": "code",
   "execution_count": null,
   "id": "ca8aa721-5aa1-4b20-83b5-deb05e8c8e0a",
   "metadata": {},
   "outputs": [],
   "source": []
  }
 ],
 "metadata": {
  "kernelspec": {
   "display_name": "Python 3 (ipykernel)",
   "language": "python",
   "name": "python3"
  },
  "language_info": {
   "codemirror_mode": {
    "name": "ipython",
    "version": 3
   },
   "file_extension": ".py",
   "mimetype": "text/x-python",
   "name": "python",
   "nbconvert_exporter": "python",
   "pygments_lexer": "ipython3",
   "version": "3.10.14"
  }
 },
 "nbformat": 4,
 "nbformat_minor": 5
}
