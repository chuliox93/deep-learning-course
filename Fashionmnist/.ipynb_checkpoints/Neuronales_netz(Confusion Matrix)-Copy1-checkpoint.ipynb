{
 "cells": [
  {
   "cell_type": "code",
   "execution_count": 1,
   "id": "2f5875f7-ba89-4549-9be4-69e163b7fb7e",
   "metadata": {},
   "outputs": [],
   "source": [
    "import gzip\n",
    "import numpy as np\n",
    "from keras.utils import to_categorical\n",
    "from keras.models import Sequential\n",
    "from keras.layers import Dense\n",
    "\n",
    "# Funktionen zum Laden der Daten\n",
    "def open_images(filename):\n",
    "    with gzip.open(filename, \"rb\") as file:\n",
    "        data = file.read()\n",
    "        return np.frombuffer(data, dtype=np.uint8, offset=16)\\\n",
    "            .reshape(-1, 28, 28)\\\n",
    "            .astype(np.float32)\n",
    "\n",
    "def open_labels(filename):\n",
    "    with gzip.open(filename, \"rb\") as file:\n",
    "        data = file.read()\n",
    "        return np.frombuffer(data, dtype=np.uint8, offset=8)\n",
    "\n",
    "# Daten laden\n",
    "X_train = open_images(\"C:/Users/Donch/DataspellProjects/pythonProject2/Fashionmnist/train-images-idx3-ubyte.gz\")\n",
    "y_train = open_labels(\"C:/Users/Donch/DataspellProjects/pythonProject2/Fashionmnist/train-labels-idx1-ubyte.gz\")\n",
    "\n",
    "X_test = open_images(\"C:/Users/Donch/DataspellProjects/pythonProject2/Fashionmnist/t10k-images-idx3-ubyte.gz\")\n",
    "y_test = open_labels(\"C:/Users/Donch/DataspellProjects/pythonProject2/Fashionmnist/t10k-labels-idx1-ubyte.gz\")\n",
    "\n",
    "y_train = to_categorical(y_train)  # 10 Klassen im FashionMNIST-Datensatz\n",
    "y_test = to_categorical(y_test)"
   ]
  },
  {
   "cell_type": "code",
   "execution_count": 2,
   "id": "8f2008a7-7c8c-4cea-b1ac-a70091e20782",
   "metadata": {},
   "outputs": [],
   "source": [
    "# Modell erstellen\n",
    "model = Sequential()\n",
    "\n",
    "# Input-Schicht mit 100 Neuronen, sigmoid-Aktivierung und Input-Shape von (784,)\n",
    "model.add(Dense(100, activation=\"sigmoid\", input_shape=(784,)))\n",
    "\n",
    "# Output-Schicht mit 10 Neuronen (für 10 Klassen) und Softmax-Aktivierung\n",
    "model.add(Dense(10, activation=\"softmax\"))\n",
    "\n",
    "# Modell kompilieren mit der richtigen Verlustfunktion für Mehrklassenklassifikation\n",
    "model.compile(optimizer=\"sgd\", \n",
    "              loss=\"categorical_crossentropy\",  # Korrekte Verlustfunktion für One-Hot-codierte Labels\n",
    "              metrics=[\"accuracy\"])  # Metrik für die Genauigkeit"
   ]
  },
  {
   "cell_type": "code",
   "execution_count": 3,
   "id": "4a985941-58b9-4c78-bbb8-a571d4402d0a",
   "metadata": {},
   "outputs": [
    {
     "data": {
      "text/plain": [
       "array([[0., 0., 0., ..., 0., 0., 0.],\n",
       "       [0., 0., 0., ..., 0., 0., 0.],\n",
       "       [0., 0., 0., ..., 0., 0., 0.],\n",
       "       ...,\n",
       "       [0., 0., 0., ..., 0., 0., 0.],\n",
       "       [0., 0., 0., ..., 0., 0., 0.],\n",
       "       [0., 0., 0., ..., 0., 0., 0.]], dtype=float32)"
      ]
     },
     "execution_count": 3,
     "metadata": {},
     "output_type": "execute_result"
    }
   ],
   "source": [
    "X_train.reshape(60000, 784)\n"
   ]
  },
  {
   "cell_type": "code",
   "execution_count": 4,
   "id": "c59d7b36-982f-4acf-aa09-a5e605326834",
   "metadata": {},
   "outputs": [
    {
     "name": "stdout",
     "output_type": "stream",
     "text": [
      "Epoch 1/10\n",
      "60/60 [==============================] - 1s 2ms/step - loss: 1.8124 - accuracy: 0.4436\n",
      "Epoch 2/10\n",
      "60/60 [==============================] - 0s 2ms/step - loss: 1.2977 - accuracy: 0.6457\n",
      "Epoch 3/10\n",
      "60/60 [==============================] - 0s 2ms/step - loss: 1.1089 - accuracy: 0.6888\n",
      "Epoch 4/10\n",
      "60/60 [==============================] - 0s 2ms/step - loss: 0.9982 - accuracy: 0.7127\n",
      "Epoch 5/10\n",
      "60/60 [==============================] - 0s 2ms/step - loss: 0.9235 - accuracy: 0.7281\n",
      "Epoch 6/10\n",
      "60/60 [==============================] - 0s 2ms/step - loss: 0.8663 - accuracy: 0.7408\n",
      "Epoch 7/10\n",
      "60/60 [==============================] - 0s 2ms/step - loss: 0.8217 - accuracy: 0.7526\n",
      "Epoch 8/10\n",
      "60/60 [==============================] - 0s 2ms/step - loss: 0.7870 - accuracy: 0.7578\n",
      "Epoch 9/10\n",
      "60/60 [==============================] - 0s 2ms/step - loss: 0.7581 - accuracy: 0.7656\n",
      "Epoch 10/10\n",
      "60/60 [==============================] - 0s 2ms/step - loss: 0.7316 - accuracy: 0.7732\n"
     ]
    },
    {
     "data": {
      "text/plain": [
       "<keras.callbacks.History at 0x1a754afb970>"
      ]
     },
     "execution_count": 4,
     "metadata": {},
     "output_type": "execute_result"
    }
   ],
   "source": [
    "model.fit(X_train.reshape(60000, 784),  # Die Bilder auf ein (60000, 784) Format umwandeln\n",
    "          y_train,  # Labels für die 10 Klassen\n",
    "          epochs=10,\n",
    "          batch_size=1000)"
   ]
  },
  {
   "cell_type": "code",
   "execution_count": 5,
   "id": "ff1fecc7-71e1-414e-9c79-bef2cb86c2bf",
   "metadata": {},
   "outputs": [
    {
     "name": "stdout",
     "output_type": "stream",
     "text": [
      "313/313 [==============================] - 1s 2ms/step - loss: 0.7410 - accuracy: 0.7643\n"
     ]
    },
    {
     "data": {
      "text/plain": [
       "[0.741020917892456, 0.7642999887466431]"
      ]
     },
     "execution_count": 5,
     "metadata": {},
     "output_type": "execute_result"
    }
   ],
   "source": [
    "model.evaluate(X_test.reshape(-1, 784), y_test)\n",
    "\n",
    "\n",
    "\n",
    "\n"
   ]
  },
  {
   "cell_type": "code",
   "execution_count": 7,
   "id": "0778b833-0889-466b-a2bd-26f917f10b46",
   "metadata": {},
   "outputs": [
    {
     "name": "stdout",
     "output_type": "stream",
     "text": [
      "313/313 [==============================] - 0s 918us/step\n"
     ]
    },
    {
     "data": {
      "text/plain": [
       "array([[0.0094424 , 0.00365963, 0.00357655, ..., 0.09998757, 0.04192941,\n",
       "        0.6058975 ],\n",
       "       [0.03184473, 0.0131079 , 0.52355695, ..., 0.00986159, 0.01943159,\n",
       "        0.01303376],\n",
       "       [0.00685346, 0.91182256, 0.01349765, ..., 0.00420138, 0.00357176,\n",
       "        0.00215504],\n",
       "       ...,\n",
       "       [0.06387449, 0.01447792, 0.0071043 , ..., 0.00635651, 0.54481894,\n",
       "        0.01054254],\n",
       "       [0.01181781, 0.81148916, 0.03943626, ..., 0.00651984, 0.00416926,\n",
       "        0.00448601],\n",
       "       [0.00441033, 0.00631666, 0.01838394, ..., 0.18228894, 0.10387831,\n",
       "        0.11267546]], dtype=float32)"
      ]
     },
     "execution_count": 7,
     "metadata": {},
     "output_type": "execute_result"
    }
   ],
   "source": [
    "model.predict(X_test.reshape(-1, 784))\n"
   ]
  },
  {
   "cell_type": "code",
   "execution_count": 8,
   "id": "937442f1-9d54-4b21-9170-8853adf6927a",
   "metadata": {},
   "outputs": [
    {
     "name": "stdout",
     "output_type": "stream",
     "text": [
      "[0. 0. 0. 0. 0. 0. 0. 0. 0. 1.]\n"
     ]
    },
    {
     "data": {
      "image/png": "[encoded data removed]",
      "text/plain": [
       "<Figure size 640x480 with 1 Axes>"
      ]
     },
     "metadata": {},
     "output_type": "display_data"
    }
   ],
   "source": [
    "%matplotlib inline\n",
    "import matplotlib.pyplot as plt \n",
    "\n",
    "print(y_test[0])\n",
    "plt.imshow(X_test[0], cmap=\"gray_r\")\n",
    "plt.show()"
   ]
  },
  {
   "cell_type": "code",
   "execution_count": 9,
   "id": "9ae5aba0-ad8b-4e1d-9636-79d112841a72",
   "metadata": {},
   "outputs": [
    {
     "name": "stdout",
     "output_type": "stream",
     "text": [
      "313/313 [==============================] - 0s 941us/step\n"
     ]
    }
   ],
   "source": [
    "pred = model.predict(X_test.reshape(-1, 784))"
   ]
  },
  {
   "cell_type": "code",
   "execution_count": 10,
   "id": "0be978d4-1703-4c60-877f-161b6efc0f87",
   "metadata": {},
   "outputs": [
    {
     "data": {
      "text/plain": [
       "9"
      ]
     },
     "execution_count": 10,
     "metadata": {},
     "output_type": "execute_result"
    }
   ],
   "source": [
    "import numpy as np\n",
    "\n",
    "np.argmax(pred[0])"
   ]
  },
  {
   "cell_type": "code",
   "execution_count": 11,
   "id": "ba00e3fb-6f6a-40b2-9142-72ac8775e5a6",
   "metadata": {},
   "outputs": [
    {
     "data": {
      "text/plain": [
       "array([[0.0094424 , 0.00365963, 0.00357655, ..., 0.09998757, 0.04192941,\n",
       "        0.6058975 ],\n",
       "       [0.03184473, 0.0131079 , 0.52355695, ..., 0.00986159, 0.01943159,\n",
       "        0.01303376],\n",
       "       [0.00685346, 0.91182256, 0.01349765, ..., 0.00420138, 0.00357176,\n",
       "        0.00215504],\n",
       "       ...,\n",
       "       [0.06387449, 0.01447792, 0.0071043 , ..., 0.00635651, 0.54481894,\n",
       "        0.01054254],\n",
       "       [0.01181781, 0.81148916, 0.03943626, ..., 0.00651984, 0.00416926,\n",
       "        0.00448601],\n",
       "       [0.00441033, 0.00631666, 0.01838394, ..., 0.18228894, 0.10387831,\n",
       "        0.11267546]], dtype=float32)"
      ]
     },
     "execution_count": 11,
     "metadata": {},
     "output_type": "execute_result"
    }
   ],
   "source": [
    "pred #VORHERSAGEN"
   ]
  },
  {
   "cell_type": "code",
   "execution_count": 12,
   "id": "6845158b-4fc9-4ecc-b595-db6b5dd0626d",
   "metadata": {},
   "outputs": [
    {
     "data": {
      "text/plain": [
       "array([9, 2, 1, ..., 8, 1, 5], dtype=int64)"
      ]
     },
     "execution_count": 12,
     "metadata": {},
     "output_type": "execute_result"
    }
   ],
   "source": [
    "np.argmax(pred, axis=1)"
   ]
  },
  {
   "cell_type": "code",
   "execution_count": 20,
   "id": "4c6d4647-2079-479f-af1b-9091cb390d48",
   "metadata": {},
   "outputs": [
    {
     "data": {
      "text/html": [
       "<div>\n",
       "<style scoped>\n",
       "    .dataframe tbody tr th:only-of-type {\n",
       "        vertical-align: middle;\n",
       "    }\n",
       "\n",
       "    .dataframe tbody tr th {\n",
       "        vertical-align: top;\n",
       "    }\n",
       "\n",
       "    .dataframe thead th {\n",
       "        text-align: right;\n",
       "    }\n",
       "</style>\n",
       "<table border=\"1\" class=\"dataframe\">\n",
       "  <thead>\n",
       "    <tr style=\"text-align: right;\">\n",
       "      <th>pred</th>\n",
       "      <th>0</th>\n",
       "      <th>1</th>\n",
       "      <th>2</th>\n",
       "      <th>3</th>\n",
       "      <th>4</th>\n",
       "      <th>5</th>\n",
       "      <th>6</th>\n",
       "      <th>7</th>\n",
       "      <th>8</th>\n",
       "      <th>9</th>\n",
       "    </tr>\n",
       "    <tr>\n",
       "      <th>actual</th>\n",
       "      <th></th>\n",
       "      <th></th>\n",
       "      <th></th>\n",
       "      <th></th>\n",
       "      <th></th>\n",
       "      <th></th>\n",
       "      <th></th>\n",
       "      <th></th>\n",
       "      <th></th>\n",
       "      <th></th>\n",
       "    </tr>\n",
       "  </thead>\n",
       "  <tbody>\n",
       "    <tr>\n",
       "      <th>0</th>\n",
       "      <td>756</td>\n",
       "      <td>5</td>\n",
       "      <td>32</td>\n",
       "      <td>97</td>\n",
       "      <td>16</td>\n",
       "      <td>1</td>\n",
       "      <td>68</td>\n",
       "      <td>0</td>\n",
       "      <td>25</td>\n",
       "      <td>0</td>\n",
       "    </tr>\n",
       "    <tr>\n",
       "      <th>1</th>\n",
       "      <td>7</td>\n",
       "      <td>910</td>\n",
       "      <td>19</td>\n",
       "      <td>54</td>\n",
       "      <td>5</td>\n",
       "      <td>0</td>\n",
       "      <td>2</td>\n",
       "      <td>0</td>\n",
       "      <td>2</td>\n",
       "      <td>1</td>\n",
       "    </tr>\n",
       "    <tr>\n",
       "      <th>2</th>\n",
       "      <td>24</td>\n",
       "      <td>2</td>\n",
       "      <td>649</td>\n",
       "      <td>10</td>\n",
       "      <td>240</td>\n",
       "      <td>1</td>\n",
       "      <td>58</td>\n",
       "      <td>0</td>\n",
       "      <td>16</td>\n",
       "      <td>0</td>\n",
       "    </tr>\n",
       "    <tr>\n",
       "      <th>3</th>\n",
       "      <td>37</td>\n",
       "      <td>14</td>\n",
       "      <td>9</td>\n",
       "      <td>836</td>\n",
       "      <td>42</td>\n",
       "      <td>1</td>\n",
       "      <td>56</td>\n",
       "      <td>1</td>\n",
       "      <td>4</td>\n",
       "      <td>0</td>\n",
       "    </tr>\n",
       "    <tr>\n",
       "      <th>4</th>\n",
       "      <td>4</td>\n",
       "      <td>2</td>\n",
       "      <td>149</td>\n",
       "      <td>59</td>\n",
       "      <td>720</td>\n",
       "      <td>1</td>\n",
       "      <td>55</td>\n",
       "      <td>0</td>\n",
       "      <td>10</td>\n",
       "      <td>0</td>\n",
       "    </tr>\n",
       "    <tr>\n",
       "      <th>5</th>\n",
       "      <td>0</td>\n",
       "      <td>1</td>\n",
       "      <td>0</td>\n",
       "      <td>0</td>\n",
       "      <td>0</td>\n",
       "      <td>782</td>\n",
       "      <td>0</td>\n",
       "      <td>106</td>\n",
       "      <td>14</td>\n",
       "      <td>97</td>\n",
       "    </tr>\n",
       "    <tr>\n",
       "      <th>6</th>\n",
       "      <td>212</td>\n",
       "      <td>4</td>\n",
       "      <td>174</td>\n",
       "      <td>64</td>\n",
       "      <td>226</td>\n",
       "      <td>4</td>\n",
       "      <td>281</td>\n",
       "      <td>0</td>\n",
       "      <td>33</td>\n",
       "      <td>2</td>\n",
       "    </tr>\n",
       "    <tr>\n",
       "      <th>7</th>\n",
       "      <td>0</td>\n",
       "      <td>0</td>\n",
       "      <td>0</td>\n",
       "      <td>0</td>\n",
       "      <td>0</td>\n",
       "      <td>56</td>\n",
       "      <td>0</td>\n",
       "      <td>845</td>\n",
       "      <td>1</td>\n",
       "      <td>98</td>\n",
       "    </tr>\n",
       "    <tr>\n",
       "      <th>8</th>\n",
       "      <td>6</td>\n",
       "      <td>1</td>\n",
       "      <td>16</td>\n",
       "      <td>12</td>\n",
       "      <td>12</td>\n",
       "      <td>9</td>\n",
       "      <td>14</td>\n",
       "      <td>11</td>\n",
       "      <td>918</td>\n",
       "      <td>1</td>\n",
       "    </tr>\n",
       "    <tr>\n",
       "      <th>9</th>\n",
       "      <td>1</td>\n",
       "      <td>0</td>\n",
       "      <td>0</td>\n",
       "      <td>0</td>\n",
       "      <td>0</td>\n",
       "      <td>9</td>\n",
       "      <td>1</td>\n",
       "      <td>41</td>\n",
       "      <td>2</td>\n",
       "      <td>946</td>\n",
       "    </tr>\n",
       "  </tbody>\n",
       "</table>\n",
       "</div>"
      ],
      "text/plain": [
       "pred      0    1    2    3    4    5    6    7    8    9\n",
       "actual                                                  \n",
       "0       756    5   32   97   16    1   68    0   25    0\n",
       "1         7  910   19   54    5    0    2    0    2    1\n",
       "2        24    2  649   10  240    1   58    0   16    0\n",
       "3        37   14    9  836   42    1   56    1    4    0\n",
       "4         4    2  149   59  720    1   55    0   10    0\n",
       "5         0    1    0    0    0  782    0  106   14   97\n",
       "6       212    4  174   64  226    4  281    0   33    2\n",
       "7         0    0    0    0    0   56    0  845    1   98\n",
       "8         6    1   16   12   12    9   14   11  918    1\n",
       "9         1    0    0    0    0    9    1   41    2  946"
      ]
     },
     "execution_count": 20,
     "metadata": {},
     "output_type": "execute_result"
    }
   ],
   "source": [
    "import pandas as pd \n",
    "\n",
    "ytrue = pd.Series(np.argmax(y_test, axis =1), name=\"actual\")\n",
    "ypred = pd.Series(np.argmax(pred, axis =1), name=\"pred\")\n",
    "\n",
    "pd.crosstab(ytrue, ypred) #Confusion Matrix "
   ]
  },
  {
   "cell_type": "code",
   "execution_count": 16,
   "id": "e337b373-a50f-4a8a-9622-9a2b684d3607",
   "metadata": {},
   "outputs": [
    {
     "name": "stdout",
     "output_type": "stream",
     "text": [
      "0       9\n",
      "1       2\n",
      "2       1\n",
      "3       1\n",
      "4       6\n",
      "       ..\n",
      "9995    9\n",
      "9996    1\n",
      "9997    8\n",
      "9998    1\n",
      "9999    5\n",
      "Name: actual, Length: 10000, dtype: int64\n"
     ]
    }
   ],
   "source": [
    "print(ytrue)"
   ]
  },
  {
   "cell_type": "code",
   "execution_count": 18,
   "id": "c35b8b0a-4b70-4e8d-ab27-a4b2c39c294a",
   "metadata": {},
   "outputs": [
    {
     "name": "stdout",
     "output_type": "stream",
     "text": [
      "0       9\n",
      "1       2\n",
      "2       1\n",
      "3       1\n",
      "4       6\n",
      "       ..\n",
      "9995    9\n",
      "9996    1\n",
      "9997    8\n",
      "9998    1\n",
      "9999    5\n",
      "Name: pred, Length: 10000, dtype: int64\n"
     ]
    }
   ],
   "source": []
  },
  {
   "cell_type": "code",
   "execution_count": null,
   "id": "8c5bb7ff-1e43-4fc7-9fe9-a7851c35c6ef",
   "metadata": {},
   "outputs": [],
   "source": []
  }
 ],
 "metadata": {
  "kernelspec": {
   "display_name": "Python 3 (ipykernel)",
   "language": "python",
   "name": "python3"
  },
  "language_info": {
   "codemirror_mode": {
    "name": "ipython",
    "version": 3
   },
   "file_extension": ".py",
   "mimetype": "text/x-python",
   "name": "python",
   "nbconvert_exporter": "python",
   "pygments_lexer": "ipython3",
   "version": "3.10.14"
  }
 },
 "nbformat": 4,
 "nbformat_minor": 5
}
