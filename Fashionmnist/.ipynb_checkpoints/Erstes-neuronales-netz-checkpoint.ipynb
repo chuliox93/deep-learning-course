{
 "cells": [
  {
   "cell_type": "code",
   "execution_count": 1,
   "id": "initial_id",
   "metadata": {
    "ExecuteTime": {
     "end_time": "2024-10-07T19:40:10.028739800Z",
     "start_time": "2024-10-07T19:40:10.012080800Z"
    }
   },
   "outputs": [],
   "source": [
    "import gzip\n",
    "import numpy as np\n",
    "\n",
    "def open_images(filename):\n",
    "    with gzip.open(filename, \"rb\") as file:\n",
    "        data = file.read()\n",
    "        return np.frombuffer(data, dtype=np.uint8, offset=16) \\\n",
    "            .reshape(-1, 28, 28) \\\n",
    "            .astype(np.float32)\n",
    "\n",
    "def open_labels(filename):\n",
    "    with gzip.open(filename, \"rb\") as file:\n",
    "        data = file.read()\n",
    "        return np.frombuffer(data, dtype=np.uint8, offset=8)\n",
    "\n",
    " \n"
   ]
  },
  {
   "cell_type": "code",
   "execution_count": 2,
   "id": "bcf40c89207d4166",
   "metadata": {
    "ExecuteTime": {
     "end_time": "2024-10-07T19:48:02.277229400Z",
     "start_time": "2024-10-07T19:48:02.024616Z"
    },
    "collapsed": false,
    "jupyter": {
     "outputs_hidden": false
    }
   },
   "outputs": [],
   "source": [
    "# Lade die Trainingsdaten und Labels\n",
    "X_train = open_images(\"C:/Users/Donch/DataspellProjects/pythonProject2/Fashionmnist/train-images-idx3-ubyte.gz\")\n",
    "y_train = open_labels(\"C:/Users/Donch/DataspellProjects/pythonProject2/Fashionmnist/train-labels-idx1-ubyte.gz\")\n",
    "y_train = y_train == 0"
   ]
  },
  {
   "cell_type": "code",
   "execution_count": 3,
   "id": "73946460440847ec",
   "metadata": {
    "ExecuteTime": {
     "end_time": "2024-10-07T19:48:04.854216900Z",
     "start_time": "2024-10-07T19:48:04.844698300Z"
    },
    "collapsed": false,
    "jupyter": {
     "outputs_hidden": false
    }
   },
   "outputs": [],
   "source": [
    "# Modell erstellen\n",
    "from keras.models import Sequential\n",
    "from keras.layers import Dense\n"
   ]
  },
  {
   "cell_type": "code",
   "execution_count": 4,
   "id": "34ba695a6a3b2a1a",
   "metadata": {
    "ExecuteTime": {
     "end_time": "2024-10-07T19:48:05.443348600Z",
     "start_time": "2024-10-07T19:48:05.380455200Z"
    },
    "collapsed": false,
    "jupyter": {
     "outputs_hidden": false
    }
   },
   "outputs": [],
   "source": [
    "model = Sequential()\n",
    "model.add(Dense(100, activation=\"sigmoid\", input_shape=(784,)))\n",
    "model.add(Dense(10, activation=\"sigmoid\"))"
   ]
  },
  {
   "cell_type": "code",
   "execution_count": 5,
   "id": "041a185f-bbad-4b08-8751-0b7e23085ac9",
   "metadata": {},
   "outputs": [
    {
     "data": {
      "text/plain": [
       "array([[0., 0., 0., ..., 0., 0., 0.],\n",
       "       [0., 0., 0., ..., 0., 0., 0.],\n",
       "       [0., 0., 0., ..., 0., 0., 0.],\n",
       "       ...,\n",
       "       [0., 0., 0., ..., 0., 0., 0.],\n",
       "       [0., 0., 0., ..., 0., 0., 0.],\n",
       "       [0., 0., 0., ..., 0., 0., 0.]], dtype=float32)"
      ]
     },
     "execution_count": 5,
     "metadata": {},
     "output_type": "execute_result"
    }
   ],
   "source": [
    "X_train.reshape(60000, 784)"
   ]
  },
  {
   "cell_type": "code",
   "execution_count": 8,
   "id": "2c85c84149d6db23",
   "metadata": {
    "ExecuteTime": {
     "end_time": "2024-10-07T19:48:45.816627400Z",
     "start_time": "2024-10-07T19:48:45.749522900Z"
    },
    "collapsed": false,
    "jupyter": {
     "outputs_hidden": false
    }
   },
   "outputs": [],
   "source": [
    "# Modell kompilieren\n",
    "model.compile(optimizer='sgd',\n",
    "              loss='sparse_categorical_crossentropy',\n",
    "              metrics=['accuracy'])"
   ]
  },
  {
   "cell_type": "code",
   "execution_count": 9,
   "id": "77eec9e1dfa3ca88",
   "metadata": {
    "ExecuteTime": {
     "end_time": "2024-10-07T19:40:14.110022600Z",
     "start_time": "2024-10-07T19:40:14.097507900Z"
    },
    "collapsed": false,
    "jupyter": {
     "outputs_hidden": false
    }
   },
   "outputs": [
    {
     "name": "stdout",
     "output_type": "stream",
     "text": [
      "Epoch 1/10\n",
      "60/60 [==============================] - 1s 2ms/step - loss: 0.4364 - accuracy: 0.8742\n",
      "Epoch 2/10\n",
      "60/60 [==============================] - 0s 2ms/step - loss: 0.2203 - accuracy: 0.9067\n",
      "Epoch 3/10\n",
      "60/60 [==============================] - 0s 2ms/step - loss: 0.1806 - accuracy: 0.9379\n",
      "Epoch 4/10\n",
      "60/60 [==============================] - 0s 2ms/step - loss: 0.1590 - accuracy: 0.9484\n",
      "Epoch 5/10\n",
      "60/60 [==============================] - 0s 2ms/step - loss: 0.1462 - accuracy: 0.9513\n",
      "Epoch 6/10\n",
      "60/60 [==============================] - 0s 2ms/step - loss: 0.1372 - accuracy: 0.9527\n",
      "Epoch 7/10\n",
      "60/60 [==============================] - 0s 2ms/step - loss: 0.1313 - accuracy: 0.9535\n",
      "Epoch 8/10\n",
      "60/60 [==============================] - 0s 2ms/step - loss: 0.1267 - accuracy: 0.9539\n",
      "Epoch 9/10\n",
      "60/60 [==============================] - 0s 2ms/step - loss: 0.1233 - accuracy: 0.9543\n",
      "Epoch 10/10\n",
      "60/60 [==============================] - 0s 2ms/step - loss: 0.1205 - accuracy: 0.9553\n"
     ]
    },
    {
     "data": {
      "text/plain": [
       "<keras.callbacks.History at 0x25fe7b7cf10>"
      ]
     },
     "execution_count": 9,
     "metadata": {},
     "output_type": "execute_result"
    }
   ],
   "source": [
    "# Modell anpassen\n",
    "model.fit(X_train.reshape(60000, 784),  # Die Bilder in ein (60000, 784) Format umwandeln\n",
    "          y_train,  # Labels\n",
    "          epochs=10,\n",
    "          batch_size=1000)\n"
   ]
  },
  {
   "cell_type": "code",
   "execution_count": 10,
   "id": "307400d6-adf5-4657-ac9a-1f111660e464",
   "metadata": {},
   "outputs": [
    {
     "name": "stdout",
     "output_type": "stream",
     "text": [
      "1/1 [==============================] - 0s 61ms/step\n",
      "[[0.9813556  0.99587774 0.20481588 0.18447883 0.13057005 0.16653004\n",
      "  0.17907737 0.15636313 0.2828139  0.15971553]]\n",
      "Vorhergesagte Klasse: [1]\n"
     ]
    }
   ],
   "source": [
    "# Beispielvorhersage für das erste Bild\n",
    "prediction = model.predict(X_train[1].reshape(1, 784))\n",
    "print(prediction)  # Sollte die Wahrscheinlichkeiten für jede Klasse zurückgeben\n",
    "\n",
    "# Wenn du die Klasse als Vorhersage haben möchtest, kannst du die höchste Wahrscheinlichkeit auswählen:\n",
    "predicted_class = np.argmax(prediction, axis=1)\n",
    "print(\"Vorhergesagte Klasse:\", predicted_class)"
   ]
  },
  {
   "cell_type": "code",
   "execution_count": 11,
   "id": "9891d87d5de0cfa2",
   "metadata": {
    "ExecuteTime": {
     "end_time": "2024-10-07T19:40:16.988995200Z",
     "start_time": "2024-10-07T19:40:16.981793900Z"
    },
    "collapsed": false,
    "jupyter": {
     "outputs_hidden": false
    }
   },
   "outputs": [
    {
     "name": "stdout",
     "output_type": "stream",
     "text": [
      "True\n"
     ]
    }
   ],
   "source": [
    "print(y_train[1])"
   ]
  },
  {
   "cell_type": "code",
   "execution_count": 12,
   "id": "d9f106853d085d9b",
   "metadata": {
    "ExecuteTime": {
     "start_time": "2024-10-07T19:40:16.990003100Z"
    },
    "collapsed": false,
    "jupyter": {
     "outputs_hidden": false
    }
   },
   "outputs": [
    {
     "data": {
      "image/png": "[encoded data removed]",
      "text/plain": [
       "<Figure size 640x480 with 1 Axes>"
      ]
     },
     "metadata": {},
     "output_type": "display_data"
    }
   ],
   "source": [
    "%matplotlib inline\n",
    "import matplotlib.pyplot as plt \n",
    "plt.imshow(X_train[1])\n",
    "plt.show()"
   ]
  },
  {
   "cell_type": "code",
   "execution_count": 13,
   "id": "934e28034e9e03c0",
   "metadata": {
    "ExecuteTime": {
     "start_time": "2024-10-07T19:39:11.153197500Z"
    },
    "collapsed": false,
    "jupyter": {
     "outputs_hidden": false
    }
   },
   "outputs": [
    {
     "data": {
      "text/plain": [
       "(1, 784)"
      ]
     },
     "execution_count": 13,
     "metadata": {},
     "output_type": "execute_result"
    }
   ],
   "source": [
    "X_train[0].reshape(1, 784).shape"
   ]
  },
  {
   "cell_type": "code",
   "execution_count": 14,
   "id": "32af2183fdd14f8e",
   "metadata": {
    "ExecuteTime": {
     "end_time": "2024-10-07T19:39:11.174390900Z",
     "start_time": "2024-10-07T19:39:11.155210600Z"
    },
    "collapsed": false,
    "jupyter": {
     "outputs_hidden": false
    }
   },
   "outputs": [
    {
     "name": "stdout",
     "output_type": "stream",
     "text": [
      "1/1 [==============================] - 0s 17ms/step\n"
     ]
    },
    {
     "data": {
      "text/plain": [
       "array([[0.9813556 , 0.99587774, 0.20481588, 0.18447883, 0.13057005,\n",
       "        0.16653004, 0.17907737, 0.15636313, 0.2828139 , 0.15971553]],\n",
       "      dtype=float32)"
      ]
     },
     "execution_count": 14,
     "metadata": {},
     "output_type": "execute_result"
    }
   ],
   "source": [
    "model.predict(X_train[1].reshape(1, 784))"
   ]
  },
  {
   "cell_type": "code",
   "execution_count": 15,
   "id": "1eccbf7c-79d9-4f61-b30e-9c79e44d6f35",
   "metadata": {},
   "outputs": [
    {
     "name": "stdout",
     "output_type": "stream",
     "text": [
      "1875/1875 [==============================] - 2s 906us/step\n"
     ]
    }
   ],
   "source": [
    "y_train_pred = model.predict(X_train.reshape(60000, 784))\n"
   ]
  },
  {
   "cell_type": "code",
   "execution_count": 19,
   "id": "3e4619e5-ce6a-49b6-ab84-7dad036f903f",
   "metadata": {},
   "outputs": [
    {
     "data": {
      "text/plain": [
       "array([1., 1., 0., ..., 0., 0., 0.], dtype=float32)"
      ]
     },
     "execution_count": 19,
     "metadata": {},
     "output_type": "execute_result"
    }
   ],
   "source": [
    "import numpy as np\n",
    "np.round(y_train_pred).reshape(-1) "
   ]
  },
  {
   "cell_type": "code",
   "execution_count": 18,
   "id": "15f1ca82-19f4-4c5f-82f2-22362cdf054b",
   "metadata": {},
   "outputs": [
    {
     "data": {
      "text/plain": [
       "array([False,  True,  True, ..., False,  True, False])"
      ]
     },
     "execution_count": 18,
     "metadata": {},
     "output_type": "execute_result"
    }
   ],
   "source": [
    "y_train"
   ]
  },
  {
   "cell_type": "code",
   "execution_count": 21,
   "id": "9dfed131-7d56-46b4-9a9e-e26d2fffa46a",
   "metadata": {},
   "outputs": [
    {
     "name": "stdout",
     "output_type": "stream",
     "text": [
      "[ True  True False ...  True  True  True]\n"
     ]
    }
   ],
   "source": [
    "# Nehme die Klasse mit der höchsten Wahrscheinlichkeit\n",
    "y_train_pred_classes = np.argmax(y_train_pred, axis=1)\n",
    "\n",
    "# Vergleiche mit den tatsächlichen Labels (y_train)\n",
    "comparison = y_train_pred_classes == y_train\n",
    "\n",
    "# Ausgabe des Vergleichs\n",
    "print(comparison)\n"
   ]
  },
  {
   "cell_type": "code",
   "execution_count": 22,
   "id": "c6426ca7-6677-4860-85ce-d0849f7d47f3",
   "metadata": {},
   "outputs": [
    {
     "data": {
      "text/plain": [
       "0.9554666666666667"
      ]
     },
     "execution_count": 22,
     "metadata": {},
     "output_type": "execute_result"
    }
   ],
   "source": [
    "np.mean(comparison)"
   ]
  },
  {
   "cell_type": "code",
   "execution_count": null,
   "id": "04f01d86-e979-4817-a0a7-043eb7a3178b",
   "metadata": {},
   "outputs": [],
   "source": []
  }
 ],
 "metadata": {
  "kernelspec": {
   "display_name": "Python 3 (ipykernel)",
   "language": "python",
   "name": "python3"
  },
  "language_info": {
   "codemirror_mode": {
    "name": "ipython",
    "version": 3
   },
   "file_extension": ".py",
   "mimetype": "text/x-python",
   "name": "python",
   "nbconvert_exporter": "python",
   "pygments_lexer": "ipython3",
   "version": "3.10.14"
  }
 },
 "nbformat": 4,
 "nbformat_minor": 5
}
