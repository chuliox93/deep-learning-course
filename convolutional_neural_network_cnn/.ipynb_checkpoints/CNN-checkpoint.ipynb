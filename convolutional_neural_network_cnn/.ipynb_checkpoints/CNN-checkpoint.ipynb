{
 "cells": [
  {
   "cell_type": "code",
   "execution_count": 2,
   "id": "9271ed72-b043-400b-bcd2-807b4471502f",
   "metadata": {},
   "outputs": [],
   "source": [
    "import gzip\n",
    "import numpy as np\n",
    "from keras.utils import to_categorical\n",
    "from keras.models import Sequential\n",
    "from keras.layers import Dense, Conv2D, Flatten\n",
    "\n",
    "def open_images(filename):\n",
    "    with gzip.open(filename, \"rb\") as file:\n",
    "        data = file.read()\n",
    "        return np.frombuffer(data, dtype=np.uint8, offset=16)\\\n",
    "            .reshape(-1, 28, 28)\\\n",
    "            .astype(np.float32)\n",
    "\n",
    "def open_labels(filename):\n",
    "    with gzip.open(filename, \"rb\") as file:\n",
    "        data = file.read()\n",
    "        return np.frombuffer(data, dtype=np.uint8, offset=8)\n",
    "\n",
    "# Load and preprocess data\n",
    "X_train = open_images(\"C:/Users/Donch/DataspellProjects/pythonProject2/data/train-images-idx3-ubyte.gz\")\n",
    "y_train = open_labels(\"C:/Users/Donch/DataspellProjects/pythonProject2/data/train-labels-idx1-ubyte.gz\")\n",
    "\n",
    "X_test = open_images(\"C:/Users/Donch/DataspellProjects/pythonProject2/data/t10k-images-idx3-ubyte.gz\")\n",
    "y_test = open_labels(\"C:/Users/Donch/DataspellProjects/pythonProject2/data/t10k-labels-idx1-ubyte.gz\")\n",
    "\n",
    "# Reshape data for Conv2D input\n",
    "X_train = X_train.reshape(-1, 28, 28, 1)\n",
    "X_test = X_test.reshape(-1, 28, 28, 1)\n",
    "\n",
    "# One-hot encode the labels\n",
    "y_train = to_categorical(y_train)\n",
    "y_test = to_categorical(y_test)"
   ]
  },
  {
   "cell_type": "code",
   "execution_count": 4,
   "id": "32e622b2-5716-4299-8201-6baa6c60fd0a",
   "metadata": {},
   "outputs": [
    {
     "name": "stdout",
     "output_type": "stream",
     "text": [
      "Epoch 1/10\n",
      "60/60 [==============================] - 1s 4ms/step - loss: 20.0985 - accuracy: 0.6661\n",
      "Epoch 2/10\n",
      "60/60 [==============================] - 0s 4ms/step - loss: 4.3972 - accuracy: 0.7961\n",
      "Epoch 3/10\n",
      "60/60 [==============================] - 0s 3ms/step - loss: 1.2895 - accuracy: 0.8404\n",
      "Epoch 4/10\n",
      "60/60 [==============================] - 0s 3ms/step - loss: 0.5406 - accuracy: 0.8667\n",
      "Epoch 5/10\n",
      "60/60 [==============================] - 0s 3ms/step - loss: 0.3454 - accuracy: 0.8866\n",
      "Epoch 6/10\n",
      "60/60 [==============================] - 0s 3ms/step - loss: 0.2781 - accuracy: 0.9010\n",
      "Epoch 7/10\n",
      "60/60 [==============================] - 0s 3ms/step - loss: 0.2347 - accuracy: 0.9156\n",
      "Epoch 8/10\n",
      "60/60 [==============================] - 0s 3ms/step - loss: 0.2115 - accuracy: 0.9217\n",
      "Epoch 9/10\n",
      "60/60 [==============================] - 0s 3ms/step - loss: 0.1910 - accuracy: 0.9301\n",
      "Epoch 10/10\n",
      "60/60 [==============================] - 0s 3ms/step - loss: 0.1770 - accuracy: 0.9344\n"
     ]
    },
    {
     "data": {
      "text/plain": [
       "<keras.callbacks.History at 0x1666b2cffd0>"
      ]
     },
     "execution_count": 4,
     "metadata": {},
     "output_type": "execute_result"
    }
   ],
   "source": [
    "# CNN!\n",
    "\n",
    "model = Sequential()\n",
    "\n",
    "model.add(Conv2D(10, kernel_size=(3, 3), activation=\"relu\", input_shape=(28, 28, 1)))\n",
    "model.add(Flatten())\n",
    "model.add(Dense(10, activation=\"softmax\"))\n",
    "\n",
    "model.compile(optimizer=\"rmsprop\", loss=\"categorical_crossentropy\", metrics=[\"accuracy\"])\n",
    "\n",
    "model.fit(\n",
    "    X_train.reshape(60000, 28, 28, 1),\n",
    "    y_train,\n",
    "    epochs=10,\n",
    "    batch_size=1000)\n"
   ]
  },
  {
   "cell_type": "code",
   "execution_count": 6,
   "id": "84893ced-955d-4842-9753-3769f728c6f4",
   "metadata": {},
   "outputs": [
    {
     "data": {
      "text/plain": [
       "<tf.Variable 'conv2d_2/kernel:0' shape=(3, 3, 1, 10) dtype=float32, numpy=\n",
       "array([[[[ 0.06658483,  0.05035885, -0.04775669,  0.0255985 ,\n",
       "          -0.01390261, -0.12483365, -0.07540449,  0.09860986,\n",
       "          -0.1412943 ,  0.12894492]],\n",
       "\n",
       "        [[ 0.01021864, -0.09821165,  0.05164057, -0.17837459,\n",
       "           0.07122823,  0.11956932, -0.14582017, -0.15489276,\n",
       "           0.00064225,  0.02381753]],\n",
       "\n",
       "        [[-0.08279914,  0.01035628, -0.00156883,  0.14813672,\n",
       "          -0.05157678,  0.03170153,  0.02284152, -0.11349258,\n",
       "          -0.09714736, -0.06585383]]],\n",
       "\n",
       "\n",
       "       [[[-0.141087  , -0.010753  ,  0.02361322, -0.1032799 ,\n",
       "          -0.06094181, -0.09417252,  0.04435573, -0.12104782,\n",
       "           0.07936733, -0.11564315]],\n",
       "\n",
       "        [[-0.17436282, -0.04346561,  0.04854866,  0.02028244,\n",
       "          -0.09418608, -0.13884965,  0.1193485 ,  0.0353582 ,\n",
       "          -0.06667332, -0.1514228 ]],\n",
       "\n",
       "        [[-0.10121159,  0.0594185 , -0.23244412, -0.18911776,\n",
       "          -0.16177209, -0.00375768,  0.04310563,  0.1287775 ,\n",
       "           0.06821804, -0.00938567]]],\n",
       "\n",
       "\n",
       "       [[[-0.00355614, -0.03391682,  0.0059227 ,  0.08490686,\n",
       "          -0.20043978, -0.15618765, -0.04882371,  0.01971214,\n",
       "           0.05400345, -0.08149321]],\n",
       "\n",
       "        [[-0.23400554, -0.05443598, -0.05167659, -0.03776366,\n",
       "           0.20276453,  0.10590512,  0.02794122,  0.03045624,\n",
       "           0.01768214, -0.14659674]],\n",
       "\n",
       "        [[ 0.13172442, -0.00079006, -0.04469126, -0.11291145,\n",
       "           0.01747286, -0.19824825, -0.147996  , -0.08359566,\n",
       "          -0.16338189, -0.1359978 ]]]], dtype=float32)>"
      ]
     },
     "execution_count": 6,
     "metadata": {},
     "output_type": "execute_result"
    }
   ],
   "source": [
    "model.layers[0].weights[0]"
   ]
  },
  {
   "cell_type": "code",
   "execution_count": 9,
   "id": "49a00b2f-6164-4cc9-985d-2fbd339c7ee7",
   "metadata": {},
   "outputs": [
    {
     "name": "stdout",
     "output_type": "stream",
     "text": [
      "[[[[ 0.06658483  0.05035885 -0.04775669  0.0255985  -0.01390261\n",
      "    -0.12483365 -0.07540449  0.09860986 -0.1412943   0.12894492]]\n",
      "\n",
      "  [[ 0.01021864 -0.09821165  0.05164057 -0.17837459  0.07122823\n",
      "     0.11956932 -0.14582017 -0.15489276  0.00064225  0.02381753]]\n",
      "\n",
      "  [[-0.08279914  0.01035628 -0.00156883  0.14813672 -0.05157678\n",
      "     0.03170153  0.02284152 -0.11349258 -0.09714736 -0.06585383]]]\n",
      "\n",
      "\n",
      " [[[-0.141087   -0.010753    0.02361322 -0.1032799  -0.06094181\n",
      "    -0.09417252  0.04435573 -0.12104782  0.07936733 -0.11564315]]\n",
      "\n",
      "  [[-0.17436282 -0.04346561  0.04854866  0.02028244 -0.09418608\n",
      "    -0.13884965  0.1193485   0.0353582  -0.06667332 -0.1514228 ]]\n",
      "\n",
      "  [[-0.10121159  0.0594185  -0.23244412 -0.18911776 -0.16177209\n",
      "    -0.00375768  0.04310563  0.1287775   0.06821804 -0.00938567]]]\n",
      "\n",
      "\n",
      " [[[-0.00355614 -0.03391682  0.0059227   0.08490686 -0.20043978\n",
      "    -0.15618765 -0.04882371  0.01971214  0.05400345 -0.08149321]]\n",
      "\n",
      "  [[-0.23400554 -0.05443598 -0.05167659 -0.03776366  0.20276453\n",
      "     0.10590512  0.02794122  0.03045624  0.01768214 -0.14659674]]\n",
      "\n",
      "  [[ 0.13172442 -0.00079006 -0.04469126 -0.11291145  0.01747286\n",
      "    -0.19824825 -0.147996   -0.08359566 -0.16338189 -0.1359978 ]]]]\n"
     ]
    }
   ],
   "source": [
    "import keras.backend as K \n",
    "\n",
    "data = K.eval(model.layers[0].weights[0])\n",
    "print(data)"
   ]
  },
  {
   "cell_type": "code",
   "execution_count": 13,
   "id": "ca5c5f01-2cb7-4456-865c-685799d5d895",
   "metadata": {},
   "outputs": [
    {
     "data": {
      "text/plain": [
       "array([[ 0.06658483,  0.01021864, -0.08279914],\n",
       "       [-0.141087  , -0.17436282, -0.10121159],\n",
       "       [-0.00355614, -0.23400554,  0.13172442]], dtype=float32)"
      ]
     },
     "execution_count": 13,
     "metadata": {},
     "output_type": "execute_result"
    }
   ],
   "source": [
    "data[:, :, :, 0].reshape(3, 3)"
   ]
  },
  {
   "cell_type": "code",
   "execution_count": 14,
   "id": "2df07910-4a45-484d-8622-ea84a0879e4a",
   "metadata": {},
   "outputs": [
    {
     "data": {
      "image/png": "[encoded data removed]",
      "text/plain": [
       "<Figure size 640x480 with 1 Axes>"
      ]
     },
     "metadata": {},
     "output_type": "display_data"
    }
   ],
   "source": [
    "%matplotlib inline\n",
    "import matplotlib.pyplot as plt \n",
    "\n",
    "plt.imshow(data[:, :, :, 0].reshape(3, 3))\n",
    "plt.show()"
   ]
  },
  {
   "cell_type": "code",
   "execution_count": null,
   "id": "fa418ba5-03eb-4832-8feb-6827e0852c99",
   "metadata": {},
   "outputs": [],
   "source": []
  }
 ],
 "metadata": {
  "kernelspec": {
   "display_name": "Python 3 (ipykernel)",
   "language": "python",
   "name": "python3"
  },
  "language_info": {
   "codemirror_mode": {
    "name": "ipython",
    "version": 3
   },
   "file_extension": ".py",
   "mimetype": "text/x-python",
   "name": "python",
   "nbconvert_exporter": "python",
   "pygments_lexer": "ipython3",
   "version": "3.10.14"
  }
 },
 "nbformat": 4,
 "nbformat_minor": 5
}
