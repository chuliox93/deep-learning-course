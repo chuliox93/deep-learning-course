{
 "cells": [
  {
   "cell_type": "code",
   "execution_count": 2,
   "id": "9271ed72-b043-400b-bcd2-807b4471502f",
   "metadata": {},
   "outputs": [],
   "source": [
    "import gzip\n",
    "import numpy as np\n",
    "from keras.utils import to_categorical\n",
    "\n",
    "\n",
    "def open_images(filename):\n",
    "    with gzip.open(filename, \"rb\") as file:\n",
    "        data = file.read()\n",
    "        return np.frombuffer(data, dtype=np.uint8, offset=16)\\\n",
    "            .reshape(-1, 28, 28)\\\n",
    "            .astype(np.float32)\n",
    "\n",
    "def open_labels(filename):\n",
    "    with gzip.open(filename, \"rb\") as file:\n",
    "        data = file.read()\n",
    "        return np.frombuffer(data, dtype=np.uint8, offset=8)\n",
    "\n",
    "# Load and preprocess data\n",
    "X_train = open_images(\"C:/Users/Donch/DataspellProjects/pythonProject2/data/train-images-idx3-ubyte.gz\")\n",
    "y_train = open_labels(\"C:/Users/Donch/DataspellProjects/pythonProject2/data/train-labels-idx1-ubyte.gz\")\n",
    "\n",
    "X_test = open_images(\"C:/Users/Donch/DataspellProjects/pythonProject2/data/t10k-images-idx3-ubyte.gz\")\n",
    "y_test = open_labels(\"C:/Users/Donch/DataspellProjects/pythonProject2/data/t10k-labels-idx1-ubyte.gz\")\n",
    "\n",
    "# Reshape data for Conv2D input\n",
    "X_train = X_train.reshape(-1, 28, 28, 1)\n",
    "X_test = X_test.reshape(-1, 28, 28, 1)\n",
    "\n",
    "# One-hot encode the labels\n",
    "y_train = to_categorical(y_train)\n",
    "y_test = to_categorical(y_test)"
   ]
  },
  {
   "cell_type": "code",
   "execution_count": 4,
   "id": "32e622b2-5716-4299-8201-6baa6c60fd0a",
   "metadata": {},
   "outputs": [
    {
     "name": "stdout",
     "output_type": "stream",
     "text": [
      "Epoch 1/10\n",
      "60/60 [==============================] - 4s 5ms/step - loss: 9.5190 - accuracy: 0.6134\n",
      "Epoch 2/10\n",
      "60/60 [==============================] - 0s 4ms/step - loss: 2.7180 - accuracy: 0.7735\n",
      "Epoch 3/10\n",
      "60/60 [==============================] - 0s 3ms/step - loss: 1.3714 - accuracy: 0.8166\n",
      "Epoch 4/10\n",
      "60/60 [==============================] - 0s 4ms/step - loss: 0.8000 - accuracy: 0.8314\n",
      "Epoch 5/10\n",
      "60/60 [==============================] - 0s 3ms/step - loss: 0.5376 - accuracy: 0.8469\n",
      "Epoch 6/10\n",
      "60/60 [==============================] - 0s 3ms/step - loss: 0.4285 - accuracy: 0.8608\n",
      "Epoch 7/10\n",
      "60/60 [==============================] - 0s 4ms/step - loss: 0.3689 - accuracy: 0.8740\n",
      "Epoch 8/10\n",
      "60/60 [==============================] - 0s 4ms/step - loss: 0.3364 - accuracy: 0.8815\n",
      "Epoch 9/10\n",
      "60/60 [==============================] - 0s 4ms/step - loss: 0.3124 - accuracy: 0.8886\n",
      "Epoch 10/10\n",
      "60/60 [==============================] - 0s 4ms/step - loss: 0.2963 - accuracy: 0.8938\n"
     ]
    },
    {
     "data": {
      "text/plain": [
       "<keras.callbacks.History at 0x2041b381de0>"
      ]
     },
     "execution_count": 4,
     "metadata": {},
     "output_type": "execute_result"
    }
   ],
   "source": [
    "from keras.models import Sequential\n",
    "from keras.layers import Dense, Conv2D, MaxPooling2D, Flatten\n",
    "\n",
    "# Initialize the model\n",
    "model = Sequential()\n",
    "\n",
    "# Add layers\n",
    "model.add(Conv2D(10, kernel_size=(3, 3), activation=\"relu\", input_shape=(28, 28, 1)))\n",
    "model.add(MaxPooling2D(pool_size=(2, 2)))  # Add max pooling layer to downsample\n",
    "model.add(Flatten())\n",
    "model.add(Dense(10, activation=\"softmax\"))\n",
    "\n",
    "# Compile the model\n",
    "model.compile(optimizer=\"rmsprop\", loss=\"categorical_crossentropy\", metrics=[\"accuracy\"])\n",
    "\n",
    "# Train the model\n",
    "model.fit(\n",
    "    X_train.reshape(60000, 28, 28, 1),\n",
    "    y_train,\n",
    "    epochs=10,\n",
    "    batch_size=1000\n",
    ")\n",
    "\n"
   ]
  },
  {
   "cell_type": "code",
   "execution_count": 8,
   "id": "84893ced-955d-4842-9753-3769f728c6f4",
   "metadata": {},
   "outputs": [
    {
     "name": "stdout",
     "output_type": "stream",
     "text": [
      "1875/1875 [==============================] - 3s 2ms/step - loss: 0.2752 - accuracy: 0.8990\n",
      "[0.2752183675765991, 0.8990333080291748]\n",
      "313/313 [==============================] - 1s 2ms/step - loss: 0.4432 - accuracy: 0.8616\n",
      "[0.44321879744529724, 0.8615999817848206]\n"
     ]
    }
   ],
   "source": [
    "print(model.evaluate(X_train.reshape(-1, 28, 28, 1), y_train))\n",
    "print(model.evaluate(X_test.reshape(-1, 28, 28, 1), y_test))"
   ]
  },
  {
   "cell_type": "code",
   "execution_count": null,
   "id": "3f2752cf-0b36-48ea-bd7a-457db221e614",
   "metadata": {},
   "outputs": [],
   "source": []
  }
 ],
 "metadata": {
  "kernelspec": {
   "display_name": "Python 3 (ipykernel)",
   "language": "python",
   "name": "python3"
  },
  "language_info": {
   "codemirror_mode": {
    "name": "ipython",
    "version": 3
   },
   "file_extension": ".py",
   "mimetype": "text/x-python",
   "name": "python",
   "nbconvert_exporter": "python",
   "pygments_lexer": "ipython3",
   "version": "3.10.14"
  }
 },
 "nbformat": 4,
 "nbformat_minor": 5
}
